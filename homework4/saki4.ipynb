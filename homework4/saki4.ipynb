{
 "cells": [
  {
   "cell_type": "code",
   "execution_count": 4,
   "source": [
    "import numpy as np\n",
    "import mdptoolbox\n",
    "from itertools import product\n",
    "\n",
    "# Initialize warehouse features\n",
    "features = {\n",
    "    'number_fields': 4,\n",
    "    'number_fillings': 4,\n",
    "    'number_next_color': 3,\n",
    "    'number_actions': 2,\n",
    "    'structure': (2, 2)\n",
    "}"
   ],
   "outputs": [
    {
     "output_type": "error",
     "ename": "ModuleNotFoundError",
     "evalue": "No module named 'numpy'",
     "traceback": [
      "\u001b[0;31m---------------------------------------------------------------------------\u001b[0m",
      "\u001b[0;31mModuleNotFoundError\u001b[0m                       Traceback (most recent call last)",
      "\u001b[0;32m<ipython-input-4-b6ddb0279263>\u001b[0m in \u001b[0;36m<module>\u001b[0;34m\u001b[0m\n\u001b[0;32m----> 1\u001b[0;31m \u001b[0;32mimport\u001b[0m \u001b[0mnumpy\u001b[0m \u001b[0;32mas\u001b[0m \u001b[0mnp\u001b[0m\u001b[0;34m\u001b[0m\u001b[0;34m\u001b[0m\u001b[0m\n\u001b[0m\u001b[1;32m      2\u001b[0m \u001b[0;32mimport\u001b[0m \u001b[0mmdptoolbox\u001b[0m\u001b[0;34m\u001b[0m\u001b[0;34m\u001b[0m\u001b[0m\n\u001b[1;32m      3\u001b[0m \u001b[0;32mfrom\u001b[0m \u001b[0mitertools\u001b[0m \u001b[0;32mimport\u001b[0m \u001b[0mproduct\u001b[0m\u001b[0;34m\u001b[0m\u001b[0;34m\u001b[0m\u001b[0m\n\u001b[1;32m      4\u001b[0m \u001b[0;34m\u001b[0m\u001b[0m\n\u001b[1;32m      5\u001b[0m \u001b[0;31m# Initialize warehouse features\u001b[0m\u001b[0;34m\u001b[0m\u001b[0;34m\u001b[0m\u001b[0;34m\u001b[0m\u001b[0m\n",
      "\u001b[0;31mModuleNotFoundError\u001b[0m: No module named 'numpy'"
     ]
    }
   ],
   "metadata": {}
  },
  {
   "cell_type": "code",
   "execution_count": null,
   "source": [
    "# Declare global variables to reuse in functions\n",
    "number_fields = features['number_fields']\n",
    "number_fillings = features['number_fillings']\n",
    "number_next_color = features['number_next_color']\n",
    "number_actions = features['number_actions']"
   ],
   "outputs": [],
   "metadata": {}
  },
  {
   "cell_type": "code",
   "execution_count": null,
   "source": [
    "# Represent each state in a multiple array\n",
    "def create_states(features):\n",
    "    global number_fields\n",
    "    global number_fillings\n",
    "    global number_next_color\n",
    "    global number_actions\n",
    "\n",
    "    # Create multidimensional array\n",
    "    all_states = np.ndarray(shape=((number_fillings ** number_fields) * number_next_color * number_actions, number_fields + 2))\n",
    "\n",
    "    field_states = list(product(np.arange(number_fillings), repeat=number_fields))\n",
    "\n",
    "    # Generate all possible states\n",
    "    for counter_fields, field_state in enumerate(field_states):\n",
    "        for counter_actions in range(number_actions):\n",
    "            for counter_next_color in range(number_next_color):\n",
    "                index = number_next_color * number_actions * counter_fields + counter_actions * number_next_color + counter_next_color\n",
    "\n",
    "                # Shift next color counter for better encoding of colors\n",
    "                all_states[index, :] = *field_state, counter_actions, counter_next_color\n",
    "\n",
    "    return all_states"
   ],
   "outputs": [],
   "metadata": {}
  },
  {
   "cell_type": "code",
   "execution_count": null,
   "source": [
    "states = create_states(features)\n",
    "states"
   ],
   "outputs": [
    {
     "output_type": "execute_result",
     "data": {
      "text/plain": [
       "array([[0., 0., 0., 0., 0., 0.],\n",
       "       [0., 0., 0., 0., 0., 1.],\n",
       "       [0., 0., 0., 0., 0., 2.],\n",
       "       ...,\n",
       "       [3., 3., 3., 3., 1., 0.],\n",
       "       [3., 3., 3., 3., 1., 1.],\n",
       "       [3., 3., 3., 3., 1., 2.]])"
      ]
     },
     "metadata": {},
     "execution_count": 68
    }
   ],
   "metadata": {}
  },
  {
   "cell_type": "code",
   "execution_count": null,
   "source": [
    "def transition_matrix_generator(states, features):\n",
    "    global number_fields\n",
    "    global number_fillings\n",
    "    global number_next_color\n",
    "    global number_actions\n",
    "    number_states = states.shape[0]\n",
    "\n",
    "    # Define the state space transition matrix \n",
    "    transition_matrix = np.zeros((number_fields + 1, number_states, number_states))\n",
    "\n",
    "    for first_state in range(number_states):\n",
    "        for field in range(number_fields):\n",
    "            for second_state in range(number_states):\n",
    "                state_1 = states[first_state]\n",
    "                state_2 = states[second_state]\n",
    "\n",
    "                number_actions = state_1[-2]\n",
    "                number_next_color = state_1[-1]\n",
    "\n",
    "                if number_actions == 0:\n",
    "                    if state_1[field] == 3 and state_2[field] == number_next_color:\n",
    "                        transition_matrix[field, first_state, second_state] = 1\n",
    "                    else:\n",
    "                        transition_matrix[4, first_state, second_state] = 1\n",
    "                else:\n",
    "                    if state_1[field] == number_next_color and state_2[field] == 3:\n",
    "                        transition_matrix[field, first_state, second_state] = 1\n",
    "                    else:\n",
    "                        transition_matrix[4, first_state, second_state] = 1\n",
    "\n",
    "            row_sum = np.sum(transition_matrix[field, first_state, :])\n",
    "\n",
    "            # Now, normalize the row accordingly\n",
    "            if row_sum > 1:\n",
    "                transition_matrix[field, first_state, :] /= row_sum\n",
    "            else:\n",
    "                transition_matrix[field, first_state, first_state] = 1\n",
    "            \n",
    "        row_sum = np.sum(transition_matrix[4, first_state, :])\n",
    "        \n",
    "        if row_sum > 1:\n",
    "            transition_matrix[4, first_state, :] /= row_sum\n",
    "        else:\n",
    "            transition_matrix[4, first_state, first_state] = 1 \n",
    "            \n",
    "    return transition_matrix"
   ],
   "outputs": [],
   "metadata": {}
  },
  {
   "cell_type": "code",
   "execution_count": null,
   "source": [
    "transition = transition_matrix_generator(states, features)\n",
    "transition"
   ],
   "outputs": [
    {
     "output_type": "execute_result",
     "data": {
      "text/plain": [
       "array([[[1.00000000e+00, 0.00000000e+00, 0.00000000e+00, ...,\n",
       "         0.00000000e+00, 0.00000000e+00, 0.00000000e+00],\n",
       "        [0.00000000e+00, 1.00000000e+00, 0.00000000e+00, ...,\n",
       "         0.00000000e+00, 0.00000000e+00, 0.00000000e+00],\n",
       "        [0.00000000e+00, 0.00000000e+00, 1.00000000e+00, ...,\n",
       "         0.00000000e+00, 0.00000000e+00, 0.00000000e+00],\n",
       "        ...,\n",
       "        [0.00000000e+00, 0.00000000e+00, 0.00000000e+00, ...,\n",
       "         1.00000000e+00, 0.00000000e+00, 0.00000000e+00],\n",
       "        [0.00000000e+00, 0.00000000e+00, 0.00000000e+00, ...,\n",
       "         0.00000000e+00, 1.00000000e+00, 0.00000000e+00],\n",
       "        [0.00000000e+00, 0.00000000e+00, 0.00000000e+00, ...,\n",
       "         0.00000000e+00, 0.00000000e+00, 1.00000000e+00]],\n",
       "\n",
       "       [[1.00000000e+00, 0.00000000e+00, 0.00000000e+00, ...,\n",
       "         0.00000000e+00, 0.00000000e+00, 0.00000000e+00],\n",
       "        [0.00000000e+00, 1.00000000e+00, 0.00000000e+00, ...,\n",
       "         0.00000000e+00, 0.00000000e+00, 0.00000000e+00],\n",
       "        [0.00000000e+00, 0.00000000e+00, 1.00000000e+00, ...,\n",
       "         0.00000000e+00, 0.00000000e+00, 0.00000000e+00],\n",
       "        ...,\n",
       "        [0.00000000e+00, 0.00000000e+00, 0.00000000e+00, ...,\n",
       "         1.00000000e+00, 0.00000000e+00, 0.00000000e+00],\n",
       "        [0.00000000e+00, 0.00000000e+00, 0.00000000e+00, ...,\n",
       "         0.00000000e+00, 1.00000000e+00, 0.00000000e+00],\n",
       "        [0.00000000e+00, 0.00000000e+00, 0.00000000e+00, ...,\n",
       "         0.00000000e+00, 0.00000000e+00, 1.00000000e+00]],\n",
       "\n",
       "       [[1.00000000e+00, 0.00000000e+00, 0.00000000e+00, ...,\n",
       "         0.00000000e+00, 0.00000000e+00, 0.00000000e+00],\n",
       "        [0.00000000e+00, 1.00000000e+00, 0.00000000e+00, ...,\n",
       "         0.00000000e+00, 0.00000000e+00, 0.00000000e+00],\n",
       "        [0.00000000e+00, 0.00000000e+00, 1.00000000e+00, ...,\n",
       "         0.00000000e+00, 0.00000000e+00, 0.00000000e+00],\n",
       "        ...,\n",
       "        [0.00000000e+00, 0.00000000e+00, 0.00000000e+00, ...,\n",
       "         1.00000000e+00, 0.00000000e+00, 0.00000000e+00],\n",
       "        [0.00000000e+00, 0.00000000e+00, 0.00000000e+00, ...,\n",
       "         0.00000000e+00, 1.00000000e+00, 0.00000000e+00],\n",
       "        [0.00000000e+00, 0.00000000e+00, 0.00000000e+00, ...,\n",
       "         0.00000000e+00, 0.00000000e+00, 1.00000000e+00]],\n",
       "\n",
       "       [[1.00000000e+00, 0.00000000e+00, 0.00000000e+00, ...,\n",
       "         0.00000000e+00, 0.00000000e+00, 0.00000000e+00],\n",
       "        [0.00000000e+00, 1.00000000e+00, 0.00000000e+00, ...,\n",
       "         0.00000000e+00, 0.00000000e+00, 0.00000000e+00],\n",
       "        [0.00000000e+00, 0.00000000e+00, 1.00000000e+00, ...,\n",
       "         0.00000000e+00, 0.00000000e+00, 0.00000000e+00],\n",
       "        ...,\n",
       "        [0.00000000e+00, 0.00000000e+00, 0.00000000e+00, ...,\n",
       "         1.00000000e+00, 0.00000000e+00, 0.00000000e+00],\n",
       "        [0.00000000e+00, 0.00000000e+00, 0.00000000e+00, ...,\n",
       "         0.00000000e+00, 1.00000000e+00, 0.00000000e+00],\n",
       "        [0.00000000e+00, 0.00000000e+00, 0.00000000e+00, ...,\n",
       "         0.00000000e+00, 0.00000000e+00, 1.00000000e+00]],\n",
       "\n",
       "       [[6.51041667e-04, 6.51041667e-04, 6.51041667e-04, ...,\n",
       "         6.51041667e-04, 6.51041667e-04, 6.51041667e-04],\n",
       "        [6.51041667e-04, 6.51041667e-04, 6.51041667e-04, ...,\n",
       "         6.51041667e-04, 6.51041667e-04, 6.51041667e-04],\n",
       "        [6.51041667e-04, 6.51041667e-04, 6.51041667e-04, ...,\n",
       "         6.51041667e-04, 6.51041667e-04, 6.51041667e-04],\n",
       "        ...,\n",
       "        [6.51041667e-04, 6.51041667e-04, 6.51041667e-04, ...,\n",
       "         6.51041667e-04, 6.51041667e-04, 6.51041667e-04],\n",
       "        [6.51041667e-04, 6.51041667e-04, 6.51041667e-04, ...,\n",
       "         6.51041667e-04, 6.51041667e-04, 6.51041667e-04],\n",
       "        [6.51041667e-04, 6.51041667e-04, 6.51041667e-04, ...,\n",
       "         6.51041667e-04, 6.51041667e-04, 6.51041667e-04]]])"
      ]
     },
     "metadata": {},
     "execution_count": 70
    }
   ],
   "metadata": {}
  },
  {
   "cell_type": "code",
   "execution_count": null,
   "source": [
    "def reward_generator(states, ztsm, features):\n",
    "    global number_fields\n",
    "    global number_fillings\n",
    "    global number_next_color\n",
    "    global number_actions\n",
    "    structure = features['structure']\n",
    "\n",
    "    # Return rows and columns structure\n",
    "    rows = np.arange(structure[0])\n",
    "    columns = np.arange(structure[1])\n",
    "\n",
    "    # Return new array and fill with ones\n",
    "    distances = np.ones(structure)\n",
    "\n",
    "    distances += columns\n",
    "    distances = (distances.T + rows).T\n",
    "    distances = np.append(distances, 7)\n",
    "    \n",
    "    # Create empty array to store reward matrix\n",
    "    reward = []\n",
    "\n",
    "    # Define reward matrix\n",
    "    for action_nr, spacetimes in enumerate(transition):\n",
    "        indices = np.where(np.logical_and(spacetimes > 0, spacetimes < 1))\n",
    "        output = np.zeros(spacetimes.shape)\n",
    "        output[indices] = 10 - distances[action_nr]\n",
    "\n",
    "        reward.append(output)\n",
    "\n",
    "    return reward"
   ],
   "outputs": [],
   "metadata": {}
  },
  {
   "cell_type": "code",
   "execution_count": null,
   "source": [
    "rewards = reward_generator(states, transition, features)\n",
    "rewards"
   ],
   "outputs": [
    {
     "output_type": "execute_result",
     "data": {
      "text/plain": [
       "[array([[0., 0., 0., ..., 0., 0., 0.],\n",
       "        [0., 0., 0., ..., 0., 0., 0.],\n",
       "        [0., 0., 0., ..., 0., 0., 0.],\n",
       "        ...,\n",
       "        [0., 0., 0., ..., 0., 0., 0.],\n",
       "        [0., 0., 0., ..., 0., 0., 0.],\n",
       "        [0., 0., 0., ..., 0., 0., 0.]]),\n",
       " array([[0., 0., 0., ..., 0., 0., 0.],\n",
       "        [0., 0., 0., ..., 0., 0., 0.],\n",
       "        [0., 0., 0., ..., 0., 0., 0.],\n",
       "        ...,\n",
       "        [0., 0., 0., ..., 0., 0., 0.],\n",
       "        [0., 0., 0., ..., 0., 0., 0.],\n",
       "        [0., 0., 0., ..., 0., 0., 0.]]),\n",
       " array([[0., 0., 0., ..., 0., 0., 0.],\n",
       "        [0., 0., 0., ..., 0., 0., 0.],\n",
       "        [0., 0., 0., ..., 0., 0., 0.],\n",
       "        ...,\n",
       "        [0., 0., 0., ..., 0., 0., 0.],\n",
       "        [0., 0., 0., ..., 0., 0., 0.],\n",
       "        [0., 0., 0., ..., 0., 0., 0.]]),\n",
       " array([[0., 0., 0., ..., 0., 0., 0.],\n",
       "        [0., 0., 0., ..., 0., 0., 0.],\n",
       "        [0., 0., 0., ..., 0., 0., 0.],\n",
       "        ...,\n",
       "        [0., 0., 0., ..., 0., 0., 0.],\n",
       "        [0., 0., 0., ..., 0., 0., 0.],\n",
       "        [0., 0., 0., ..., 0., 0., 0.]]),\n",
       " array([[3., 3., 3., ..., 3., 3., 3.],\n",
       "        [3., 3., 3., ..., 3., 3., 3.],\n",
       "        [3., 3., 3., ..., 3., 3., 3.],\n",
       "        ...,\n",
       "        [3., 3., 3., ..., 3., 3., 3.],\n",
       "        [3., 3., 3., ..., 3., 3., 3.],\n",
       "        [3., 3., 3., ..., 3., 3., 3.]])]"
      ]
     },
     "metadata": {},
     "execution_count": 72
    }
   ],
   "metadata": {}
  },
  {
   "cell_type": "code",
   "execution_count": null,
   "source": [
    "# \n",
    "pi = mdptoolbox.mdp.ValueIteration(transitions=transition, reward=rewards, discount=0.95)\n",
    "pi.setVerbose()\n",
    "results = pi.run()\n",
    "print(pi.policy)"
   ],
   "outputs": [
    {
     "output_type": "stream",
     "name": "stdout",
     "text": [
      "  Iteration\t\tV-variation\n",
      "    1\t\t  6.0\n",
      "    2\t\t  1.0291666666666686\n",
      "    3\t\t  0.15254659016926908\n",
      "    4\t\t  0.02640567211310696\n",
      "    5\t\t  0.005204433290689536\n",
      "    6\t\t  0.0011181208688526567\n",
      "    7\t\t  0.00025226362635066835\n",
      "Iterating stopped, epsilon-optimal policy found.\n",
      "(4, 4, 4, 0, 4, 4, 4, 4, 4, 0, 3, 4, 4, 4, 4, 0, 4, 3, 3, 3, 3, 0, 4, 4, 4, 4, 4, 0, 2, 4, 4, 4, 4, 0, 2, 4, 4, 4, 4, 0, 2, 3, 3, 3, 3, 0, 2, 4, 4, 4, 4, 0, 4, 2, 4, 4, 4, 0, 3, 2, 4, 4, 4, 0, 4, 2, 3, 3, 3, 0, 4, 2, 2, 2, 2, 0, 4, 4, 2, 2, 2, 0, 3, 4, 2, 2, 2, 0, 4, 3, 2, 2, 2, 0, 4, 4, 4, 4, 4, 0, 1, 4, 4, 4, 4, 0, 1, 4, 4, 4, 4, 0, 1, 3, 3, 3, 3, 0, 1, 4, 4, 4, 4, 0, 1, 4, 4, 4, 4, 0, 1, 4, 4, 4, 4, 0, 1, 3, 3, 3, 3, 0, 1, 4, 4, 4, 4, 0, 1, 2, 4, 4, 4, 0, 1, 2, 4, 4, 4, 0, 1, 2, 3, 3, 3, 0, 1, 2, 2, 2, 2, 0, 1, 4, 2, 2, 2, 0, 1, 4, 2, 2, 2, 0, 1, 3, 2, 2, 2, 0, 1, 4, 4, 4, 4, 0, 4, 1, 4, 4, 4, 0, 3, 1, 4, 4, 4, 0, 4, 1, 3, 3, 3, 0, 4, 1, 4, 4, 4, 0, 2, 1, 4, 4, 4, 0, 2, 1, 4, 4, 4, 0, 2, 1, 3, 3, 3, 0, 2, 1, 4, 4, 4, 0, 4, 1, 4, 4, 4, 0, 3, 1, 4, 4, 4, 0, 4, 1, 3, 3, 3, 0, 4, 1, 2, 2, 2, 0, 4, 1, 2, 2, 2, 0, 3, 1, 2, 2, 2, 0, 4, 1, 2, 2, 2, 0, 4, 1, 1, 1, 1, 0, 4, 4, 1, 1, 1, 0, 3, 4, 1, 1, 1, 0, 4, 3, 1, 1, 1, 0, 4, 4, 1, 1, 1, 0, 2, 4, 1, 1, 1, 0, 2, 4, 1, 1, 1, 0, 2, 3, 1, 1, 1, 0, 2, 4, 1, 1, 1, 0, 4, 2, 1, 1, 1, 0, 3, 2, 1, 1, 1, 0, 4, 2, 1, 1, 1, 0, 4, 2, 1, 1, 1, 0, 4, 4, 1, 1, 1, 0, 3, 4, 1, 1, 1, 0, 4, 3, 1, 1, 1, 0, 4, 4, 4, 4, 4, 1, 0, 4, 4, 4, 4, 1, 0, 4, 4, 4, 4, 1, 0, 3, 3, 3, 3, 1, 0, 4, 4, 4, 4, 1, 0, 4, 4, 4, 4, 1, 0, 4, 4, 4, 4, 1, 0, 3, 3, 3, 3, 1, 0, 4, 4, 4, 4, 1, 0, 2, 4, 4, 4, 1, 0, 2, 4, 4, 4, 1, 0, 2, 3, 3, 3, 1, 0, 2, 2, 2, 2, 1, 0, 4, 2, 2, 2, 1, 0, 4, 2, 2, 2, 1, 0, 3, 2, 2, 2, 1, 0, 4, 4, 4, 4, 2, 0, 4, 4, 4, 4, 2, 0, 4, 4, 4, 4, 2, 0, 3, 3, 3, 3, 2, 0, 4, 4, 4, 4, 3, 0, 4, 4, 4, 4, 4, 0, 4, 4, 4, 4, 4, 0, 3, 3, 3, 3, 4, 0, 4, 4, 4, 4, 3, 0, 2, 4, 4, 4, 4, 0, 2, 4, 4, 4, 4, 0, 2, 3, 3, 3, 4, 0, 2, 2, 2, 2, 3, 0, 4, 2, 2, 2, 4, 0, 4, 2, 2, 2, 4, 0, 3, 2, 2, 2, 4, 0, 4, 4, 4, 4, 2, 0, 1, 4, 4, 4, 2, 0, 1, 4, 4, 4, 2, 0, 1, 3, 3, 3, 2, 0, 1, 4, 4, 4, 3, 0, 1, 4, 4, 4, 4, 0, 1, 4, 4, 4, 4, 0, 1, 3, 3, 3, 4, 0, 1, 4, 4, 4, 3, 0, 1, 4, 4, 4, 4, 0, 1, 4, 4, 4, 4, 0, 1, 3, 3, 3, 4, 0, 1, 2, 2, 2, 3, 0, 1, 2, 2, 2, 4, 0, 1, 2, 2, 2, 4, 0, 1, 2, 2, 2, 4, 0, 1, 1, 1, 1, 2, 0, 4, 1, 1, 1, 2, 0, 4, 1, 1, 1, 2, 0, 3, 1, 1, 1, 2, 0, 4, 1, 1, 1, 3, 0, 4, 1, 1, 1, 4, 0, 4, 1, 1, 1, 4, 0, 3, 1, 1, 1, 4, 0, 4, 1, 1, 1, 3, 0, 2, 1, 1, 1, 4, 0, 2, 1, 1, 1, 4, 0, 2, 1, 1, 1, 4, 0, 2, 1, 1, 1, 3, 0, 4, 1, 1, 1, 4, 0, 4, 1, 1, 1, 4, 0, 3, 1, 1, 1, 4, 0, 4, 4, 4, 4, 1, 4, 0, 4, 4, 4, 1, 3, 0, 4, 4, 4, 1, 4, 0, 3, 3, 3, 1, 4, 0, 4, 4, 4, 1, 2, 0, 4, 4, 4, 1, 2, 0, 4, 4, 4, 1, 2, 0, 3, 3, 3, 1, 2, 0, 4, 4, 4, 1, 4, 0, 4, 4, 4, 1, 3, 0, 4, 4, 4, 1, 4, 0, 3, 3, 3, 1, 4, 0, 2, 2, 2, 1, 4, 0, 2, 2, 2, 1, 3, 0, 2, 2, 2, 1, 4, 0, 2, 2, 2, 1, 4, 0, 4, 4, 4, 2, 1, 0, 4, 4, 4, 2, 1, 0, 4, 4, 4, 2, 1, 0, 3, 3, 3, 2, 1, 0, 4, 4, 4, 3, 1, 0, 4, 4, 4, 4, 1, 0, 4, 4, 4, 4, 1, 0, 3, 3, 3, 4, 1, 0, 4, 4, 4, 3, 1, 0, 4, 4, 4, 4, 1, 0, 4, 4, 4, 4, 1, 0, 3, 3, 3, 4, 1, 0, 2, 2, 2, 3, 1, 0, 2, 2, 2, 4, 1, 0, 2, 2, 2, 4, 1, 0, 2, 2, 2, 4, 1, 0, 4, 4, 4, 2, 4, 0, 4, 4, 4, 2, 3, 0, 4, 4, 4, 2, 4, 0, 3, 3, 3, 2, 4, 0, 4, 4, 4, 3, 2, 0, 4, 4, 4, 4, 2, 0, 4, 4, 4, 4, 2, 0, 3, 3, 3, 4, 2, 0, 4, 4, 4, 3, 4, 0, 4, 4, 4, 4, 3, 0, 4, 4, 4, 4, 4, 0, 3, 3, 3, 4, 4, 0, 2, 2, 2, 3, 4, 0, 2, 2, 2, 4, 3, 0, 2, 2, 2, 4, 4, 0, 2, 2, 2, 4, 4, 0, 1, 1, 1, 2, 4, 0, 1, 1, 1, 2, 3, 0, 1, 1, 1, 2, 4, 0, 1, 1, 1, 2, 4, 0, 1, 1, 1, 3, 2, 0, 1, 1, 1, 4, 2, 0, 1, 1, 1, 4, 2, 0, 1, 1, 1, 4, 2, 0, 1, 1, 1, 3, 4, 0, 1, 1, 1, 4, 3, 0, 1, 1, 1, 4, 4, 0, 1, 1, 1, 4, 4, 0, 1, 1, 1, 3, 4, 0, 1, 1, 1, 4, 3, 0, 1, 1, 1, 4, 4, 0, 1, 1, 1, 4, 4, 0, 0, 0, 0, 1, 4, 4, 0, 0, 0, 1, 3, 4, 0, 0, 0, 1, 4, 3, 0, 0, 0, 1, 4, 4, 0, 0, 0, 1, 2, 4, 0, 0, 0, 1, 2, 4, 0, 0, 0, 1, 2, 3, 0, 0, 0, 1, 2, 4, 0, 0, 0, 1, 4, 2, 0, 0, 0, 1, 3, 2, 0, 0, 0, 1, 4, 2, 0, 0, 0, 1, 4, 2, 0, 0, 0, 1, 4, 4, 0, 0, 0, 1, 3, 4, 0, 0, 0, 1, 4, 3, 0, 0, 0, 1, 4, 4, 0, 0, 0, 2, 1, 4, 0, 0, 0, 2, 1, 4, 0, 0, 0, 2, 1, 3, 0, 0, 0, 2, 1, 4, 0, 0, 0, 3, 1, 4, 0, 0, 0, 4, 1, 4, 0, 0, 0, 4, 1, 3, 0, 0, 0, 4, 1, 4, 0, 0, 0, 3, 1, 2, 0, 0, 0, 4, 1, 2, 0, 0, 0, 4, 1, 2, 0, 0, 0, 4, 1, 2, 0, 0, 0, 3, 1, 4, 0, 0, 0, 4, 1, 4, 0, 0, 0, 4, 1, 3, 0, 0, 0, 4, 1, 4, 0, 0, 0, 2, 4, 1, 0, 0, 0, 2, 3, 1, 0, 0, 0, 2, 4, 1, 0, 0, 0, 2, 4, 1, 0, 0, 0, 3, 2, 1, 0, 0, 0, 4, 2, 1, 0, 0, 0, 4, 2, 1, 0, 0, 0, 4, 2, 1, 0, 0, 0, 3, 4, 1, 0, 0, 0, 4, 3, 1, 0, 0, 0, 4, 4, 1, 0, 0, 0, 4, 4, 1, 0, 0, 0, 3, 4, 1, 0, 0, 0, 4, 3, 1, 0, 0, 0, 4, 4, 1, 0, 0, 0, 4, 4, 1, 0, 0, 0, 2, 4, 4, 0, 0, 0, 2, 3, 4, 0, 0, 0, 2, 4, 3, 0, 0, 0, 2, 4, 4, 0, 0, 0, 3, 2, 4, 0, 0, 0, 4, 2, 4, 0, 0, 0, 4, 2, 3, 0, 0, 0, 4, 2, 4, 0, 0, 0, 3, 4, 2, 0, 0, 0, 4, 3, 2, 0, 0, 0, 4, 4, 2, 0, 0, 0, 4, 4, 2, 0, 0, 0, 3, 4, 4, 0, 0, 0, 4, 3, 4, 0, 0, 0, 4, 4, 3, 0, 0, 0, 4, 4, 4)\n"
     ]
    }
   ],
   "metadata": {}
  },
  {
   "cell_type": "code",
   "execution_count": null,
   "source": [
    "states[11:19,:]"
   ],
   "outputs": [
    {
     "output_type": "execute_result",
     "data": {
      "text/plain": [
       "array([[0., 0., 0., 1., 1., 2.],\n",
       "       [0., 0., 0., 2., 0., 0.],\n",
       "       [0., 0., 0., 2., 0., 1.],\n",
       "       [0., 0., 0., 2., 0., 2.],\n",
       "       [0., 0., 0., 2., 1., 0.],\n",
       "       [0., 0., 0., 2., 1., 1.],\n",
       "       [0., 0., 0., 2., 1., 2.],\n",
       "       [0., 0., 0., 3., 0., 0.]])"
      ]
     },
     "metadata": {},
     "execution_count": 74
    }
   ],
   "metadata": {}
  },
  {
   "cell_type": "code",
   "execution_count": null,
   "source": [
    "pi.policy[11:19]"
   ],
   "outputs": [
    {
     "output_type": "execute_result",
     "data": {
      "text/plain": [
       "(4, 4, 4, 4, 0, 4, 3, 3)"
      ]
     },
     "metadata": {},
     "execution_count": 75
    }
   ],
   "metadata": {}
  },
  {
   "cell_type": "code",
   "execution_count": null,
   "source": [
    "color_to_index = {\n",
    "    \"white\": 0,\n",
    "    \"blue\": 1,\n",
    "    \"red\": 2\n",
    "}\n",
    "\n",
    "index_to_color = [\"white\", \"blue\", \"red\"]\n",
    "\n",
    "actions_to_index = {\n",
    "    \"store\": 0,\n",
    "    \"restore\": 1\n",
    "}\n",
    "\n",
    "index_to_action = [\"store\", \"restore\"]"
   ],
   "outputs": [],
   "metadata": {}
  }
 ],
 "metadata": {
  "kernelspec": {
   "display_name": "Python 3",
   "language": "python",
   "name": "python3"
  },
  "language_info": {
   "codemirror_mode": {
    "name": "ipython",
    "version": 3
   },
   "file_extension": ".py",
   "mimetype": "text/x-python",
   "name": "python",
   "nbconvert_exporter": "python",
   "pygments_lexer": "ipython3",
   "version": "3.7.6"
  }
 },
 "nbformat": 4,
 "nbformat_minor": 5
}