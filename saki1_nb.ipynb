{
 "cells": [
  {
   "cell_type": "code",
   "execution_count": 561,
   "metadata": {},
   "outputs": [],
   "source": [
    "import pandas as pd\n",
    "import seaborn as sns\n",
    "from nltk.corpus import stopwords\n",
    "\n",
    "from sklearn.feature_extraction.text import CountVectorizer\n",
    "from sklearn.model_selection import train_test_split, cross_validate\n",
    "from sklearn.naive_bayes import GaussianNB\n",
    "from sklearn.metrics import classification_report, accuracy_score, confusion_matrix, plot_confusion_matrix\n",
    "from sklearn.preprocessing import LabelEncoder, FunctionTransformer\n",
    "from sklearn.pipeline import Pipeline\n",
    "from sklearn.utils.multiclass import unique_labels"
   ]
  },
  {
   "cell_type": "code",
   "execution_count": 562,
   "metadata": {},
   "outputs": [
    {
     "data": {
      "text/html": [
       "<div>\n",
       "<style scoped>\n",
       "    .dataframe tbody tr th:only-of-type {\n",
       "        vertical-align: middle;\n",
       "    }\n",
       "\n",
       "    .dataframe tbody tr th {\n",
       "        vertical-align: top;\n",
       "    }\n",
       "\n",
       "    .dataframe thead th {\n",
       "        text-align: right;\n",
       "    }\n",
       "</style>\n",
       "<table border=\"1\" class=\"dataframe\">\n",
       "  <thead>\n",
       "    <tr style=\"text-align: right;\">\n",
       "      <th></th>\n",
       "      <th>Auftragskonto</th>\n",
       "      <th>Buchungstag</th>\n",
       "      <th>Valutadatum</th>\n",
       "      <th>Buchungstext</th>\n",
       "      <th>Verwendungszweck</th>\n",
       "      <th>Beguenstigter/Zahlungspflichtiger</th>\n",
       "      <th>Kontonummer</th>\n",
       "      <th>BLZ</th>\n",
       "      <th>Betrag</th>\n",
       "      <th>Waehrung</th>\n",
       "      <th>label</th>\n",
       "    </tr>\n",
       "  </thead>\n",
       "  <tbody>\n",
       "    <tr>\n",
       "      <th>0</th>\n",
       "      <td>89990201.0</td>\n",
       "      <td>28.07.2016</td>\n",
       "      <td>28.07.2016</td>\n",
       "      <td>Lohn / Gehalt</td>\n",
       "      <td>Gehalt Adorsys GmbH &amp; Co. KG End-To-End-Ref.: ...</td>\n",
       "      <td>Adorsys GmbH &amp; Co. KG</td>\n",
       "      <td>7807800780</td>\n",
       "      <td>25190001</td>\n",
       "      <td>2000.00</td>\n",
       "      <td>EUR</td>\n",
       "      <td>income</td>\n",
       "    </tr>\n",
       "    <tr>\n",
       "      <th>1</th>\n",
       "      <td>89990201.0</td>\n",
       "      <td>27.07.2016</td>\n",
       "      <td>27.07.2016</td>\n",
       "      <td>Miete</td>\n",
       "      <td>Byladem1Sbt De12773501123456789889 Miete Beuth...</td>\n",
       "      <td>Georg Tasche</td>\n",
       "      <td>DE31251900019123456780</td>\n",
       "      <td>VOHADE2HXXX</td>\n",
       "      <td>-670.00</td>\n",
       "      <td>EUR</td>\n",
       "      <td>living</td>\n",
       "    </tr>\n",
       "    <tr>\n",
       "      <th>2</th>\n",
       "      <td>89990201.0</td>\n",
       "      <td>21.07.2016</td>\n",
       "      <td>21.07.2016</td>\n",
       "      <td>Bargeld</td>\n",
       "      <td>21.07/16.34Uhr Nuernberg All Eur 70,00 Geb.Eur...</td>\n",
       "      <td>Bargeld</td>\n",
       "      <td>9999900780</td>\n",
       "      <td>25190001</td>\n",
       "      <td>-70.00</td>\n",
       "      <td>EUR</td>\n",
       "      <td>private</td>\n",
       "    </tr>\n",
       "    <tr>\n",
       "      <th>3</th>\n",
       "      <td>89990201.0</td>\n",
       "      <td>20.07.2016</td>\n",
       "      <td>20.07.2016</td>\n",
       "      <td>Lebensmittel / Getraenke</td>\n",
       "      <td>2831 Edeka Neubauer Nuernb.//Nuernb 2016-07-20...</td>\n",
       "      <td>Kartenzahlung</td>\n",
       "      <td>9736000780</td>\n",
       "      <td>25190001</td>\n",
       "      <td>-73.21</td>\n",
       "      <td>EUR</td>\n",
       "      <td>standardOfLiving</td>\n",
       "    </tr>\n",
       "    <tr>\n",
       "      <th>4</th>\n",
       "      <td>89990201.0</td>\n",
       "      <td>18.07.2016</td>\n",
       "      <td>18.07.2016</td>\n",
       "      <td>Spontanausgabe</td>\n",
       "      <td>Amazon</td>\n",
       "      <td>neue Playstation</td>\n",
       "      <td>9988776655</td>\n",
       "      <td>25125100</td>\n",
       "      <td>-363</td>\n",
       "      <td>EUR</td>\n",
       "      <td>leisure</td>\n",
       "    </tr>\n",
       "    <tr>\n",
       "      <th>...</th>\n",
       "      <td>...</td>\n",
       "      <td>...</td>\n",
       "      <td>...</td>\n",
       "      <td>...</td>\n",
       "      <td>...</td>\n",
       "      <td>...</td>\n",
       "      <td>...</td>\n",
       "      <td>...</td>\n",
       "      <td>...</td>\n",
       "      <td>...</td>\n",
       "      <td>...</td>\n",
       "    </tr>\n",
       "    <tr>\n",
       "      <th>204</th>\n",
       "      <td>NaN</td>\n",
       "      <td>15.02.2016</td>\n",
       "      <td>15.02.2016</td>\n",
       "      <td>Mieteinnahmen</td>\n",
       "      <td>Mietzuschuss End-To-End-Ref.: Notprovided Kund...</td>\n",
       "      <td>Isabel Anna</td>\n",
       "      <td>DE31251900019736000780</td>\n",
       "      <td>VOHADE2HXXX</td>\n",
       "      <td>200.00</td>\n",
       "      <td>EUR</td>\n",
       "      <td>finance</td>\n",
       "    </tr>\n",
       "    <tr>\n",
       "      <th>205</th>\n",
       "      <td>NaN</td>\n",
       "      <td>02.02.2016</td>\n",
       "      <td>02.02.2016</td>\n",
       "      <td>Geldanlage</td>\n",
       "      <td>Ccbade31Xxx De71310108339900123456 Sparen End-...</td>\n",
       "      <td>Michael Koffer</td>\n",
       "      <td>DE69790800529736000780</td>\n",
       "      <td>DRESDEFF790</td>\n",
       "      <td>-300.00</td>\n",
       "      <td>EUR</td>\n",
       "      <td>finance</td>\n",
       "    </tr>\n",
       "    <tr>\n",
       "      <th>206</th>\n",
       "      <td>NaN</td>\n",
       "      <td>28.01.2016</td>\n",
       "      <td>28.01.2016</td>\n",
       "      <td>Lohn / Gehalt</td>\n",
       "      <td>Gehalt Adorsys GmbH &amp; Co. KG End-To-End-Ref.: ...</td>\n",
       "      <td>Adorsys GmbH &amp; Co. KG</td>\n",
       "      <td>7807800780</td>\n",
       "      <td>25190001</td>\n",
       "      <td>2000.00</td>\n",
       "      <td>EUR</td>\n",
       "      <td>income</td>\n",
       "    </tr>\n",
       "    <tr>\n",
       "      <th>207</th>\n",
       "      <td>NaN</td>\n",
       "      <td>28.01.2016</td>\n",
       "      <td>28.01.2016</td>\n",
       "      <td>Geldanlage</td>\n",
       "      <td>Ssknde77Xxx De41760501010012345675 Einmalspare...</td>\n",
       "      <td>Christina Jung</td>\n",
       "      <td>DE31251900019736333780</td>\n",
       "      <td>VOHADE2HXXX</td>\n",
       "      <td>-4000.00</td>\n",
       "      <td>EUR</td>\n",
       "      <td>finance</td>\n",
       "    </tr>\n",
       "    <tr>\n",
       "      <th>208</th>\n",
       "      <td>89990210.0</td>\n",
       "      <td>08.01.2016</td>\n",
       "      <td>08.01.2016</td>\n",
       "      <td>Lastschrift (Einzugsermächtigung)</td>\n",
       "      <td>Abonnement Kd-Nr. 5104489.</td>\n",
       "      <td>Vag</td>\n",
       "      <td>DE89760501010001011500</td>\n",
       "      <td>SSKNDE77</td>\n",
       "      <td>-51,2</td>\n",
       "      <td>EUR</td>\n",
       "      <td>leisure</td>\n",
       "    </tr>\n",
       "  </tbody>\n",
       "</table>\n",
       "<p>209 rows × 11 columns</p>\n",
       "</div>"
      ],
      "text/plain": [
       "     Auftragskonto Buchungstag Valutadatum                       Buchungstext  \\\n",
       "0       89990201.0  28.07.2016  28.07.2016                      Lohn / Gehalt   \n",
       "1       89990201.0  27.07.2016  27.07.2016                              Miete   \n",
       "2       89990201.0  21.07.2016  21.07.2016                            Bargeld   \n",
       "3       89990201.0  20.07.2016  20.07.2016           Lebensmittel / Getraenke   \n",
       "4       89990201.0  18.07.2016  18.07.2016                     Spontanausgabe   \n",
       "..             ...         ...         ...                                ...   \n",
       "204            NaN  15.02.2016  15.02.2016                      Mieteinnahmen   \n",
       "205            NaN  02.02.2016  02.02.2016                         Geldanlage   \n",
       "206            NaN  28.01.2016  28.01.2016                      Lohn / Gehalt   \n",
       "207            NaN  28.01.2016  28.01.2016                         Geldanlage   \n",
       "208     89990210.0  08.01.2016  08.01.2016  Lastschrift (Einzugsermächtigung)   \n",
       "\n",
       "                                      Verwendungszweck  \\\n",
       "0    Gehalt Adorsys GmbH & Co. KG End-To-End-Ref.: ...   \n",
       "1    Byladem1Sbt De12773501123456789889 Miete Beuth...   \n",
       "2    21.07/16.34Uhr Nuernberg All Eur 70,00 Geb.Eur...   \n",
       "3    2831 Edeka Neubauer Nuernb.//Nuernb 2016-07-20...   \n",
       "4                                               Amazon   \n",
       "..                                                 ...   \n",
       "204  Mietzuschuss End-To-End-Ref.: Notprovided Kund...   \n",
       "205  Ccbade31Xxx De71310108339900123456 Sparen End-...   \n",
       "206  Gehalt Adorsys GmbH & Co. KG End-To-End-Ref.: ...   \n",
       "207  Ssknde77Xxx De41760501010012345675 Einmalspare...   \n",
       "208                         Abonnement Kd-Nr. 5104489.   \n",
       "\n",
       "    Beguenstigter/Zahlungspflichtiger             Kontonummer          BLZ  \\\n",
       "0               Adorsys GmbH & Co. KG              7807800780     25190001   \n",
       "1                        Georg Tasche  DE31251900019123456780  VOHADE2HXXX   \n",
       "2                             Bargeld              9999900780     25190001   \n",
       "3                       Kartenzahlung              9736000780     25190001   \n",
       "4                    neue Playstation              9988776655     25125100   \n",
       "..                                ...                     ...          ...   \n",
       "204                       Isabel Anna  DE31251900019736000780  VOHADE2HXXX   \n",
       "205                    Michael Koffer  DE69790800529736000780  DRESDEFF790   \n",
       "206             Adorsys GmbH & Co. KG              7807800780     25190001   \n",
       "207                    Christina Jung  DE31251900019736333780  VOHADE2HXXX   \n",
       "208                               Vag  DE89760501010001011500     SSKNDE77   \n",
       "\n",
       "       Betrag Waehrung             label  \n",
       "0     2000.00      EUR            income  \n",
       "1     -670.00      EUR            living  \n",
       "2      -70.00      EUR           private  \n",
       "3      -73.21      EUR  standardOfLiving  \n",
       "4        -363      EUR           leisure  \n",
       "..        ...      ...               ...  \n",
       "204    200.00      EUR           finance  \n",
       "205   -300.00      EUR           finance  \n",
       "206   2000.00      EUR            income  \n",
       "207  -4000.00      EUR           finance  \n",
       "208     -51,2      EUR           leisure  \n",
       "\n",
       "[209 rows x 11 columns]"
      ]
     },
     "execution_count": 562,
     "metadata": {},
     "output_type": "execute_result"
    }
   ],
   "source": [
    "# Visualize transaction data with pandas dataframe\n",
    "transaction_data = pd.read_csv(\"data_set/SAKI - Exercise 1 - Transaction Classification - Data Set.csv\",\n",
    "                               sep=';', index_col=0)\n",
    "transaction_data"
   ]
  },
  {
   "cell_type": "code",
   "execution_count": 631,
   "metadata": {},
   "outputs": [],
   "source": [
    "# Concatenate relevant features into unified string 'x'\n",
    "# Assign label feature to 'y'\n",
    "x = transaction_data[\"Buchungstext\"] + transaction_data[\"Verwendungszweck\"]\n",
    "+ transaction_data[\"Beguenstigter/Zahlungspflichtiger\"]\n",
    "y = transaction_data.label"
   ]
  },
  {
   "cell_type": "code",
   "execution_count": 564,
   "metadata": {},
   "outputs": [],
   "source": [
    "# Determine train and test set sizes\n",
    "x_train, x_test, y_train, y_test = train_test_split(x, y, test_size=0.3, random_state=100)"
   ]
  },
  {
   "cell_type": "code",
   "execution_count": 626,
   "metadata": {},
   "outputs": [],
   "source": [
    "# Handle special characters in german language to make stopwords consistent\n",
    "german_stop_words = stopwords.words(\"german\")\n",
    "def special_characters(text):\n",
    "    temp_var = word\n",
    "    \n",
    "    temp_var = temp_var.replace('ä', 'ae')\n",
    "    temp_var = temp_var.replace('ö', 'oe')\n",
    "    temp_var = temp_var.replace('ü', 'ue')\n",
    "    temp_var = temp_var.replace('Ä', 'Ae')\n",
    "    temp_var = temp_var.replace('Ö', 'Oe')\n",
    "    temp_var = temp_var.replace('Ü', 'Ue')\n",
    "    temp_var = temp_var.replace('ß', 'ss')\n",
    "    \n",
    "    return temp_var"
   ]
  },
  {
   "cell_type": "code",
   "execution_count": 627,
   "metadata": {},
   "outputs": [],
   "source": [
    "# List to transfer german words to after conversion\n",
    "german_stop_words_to_use = []\n",
    "for word in german_stop_words:\n",
    "    german_stop_words_to_use.append(special_characters(word))"
   ]
  },
  {
   "cell_type": "code",
   "execution_count": 632,
   "metadata": {},
   "outputs": [],
   "source": [
    "# Perform data preprocessing steps such as strings to tokens, ngrams, and filtering of stopwords\n",
    "vectorizer = CountVectorizer(lowercase=True, stop_words=german_stop_words_to_use ,strip_accents=\"unicode\"\n",
    "                             , ngram_range=(1,2))\n",
    "vectorizer.fit(x_train)\n",
    "\n",
    "count_x_train = vectorizer.transform(x_train).toarray()\n",
    "count_x_test = vectorizer.transform(x_test).toarray()"
   ]
  },
  {
   "cell_type": "code",
   "execution_count": 621,
   "metadata": {},
   "outputs": [
    {
     "data": {
      "text/plain": [
       "GaussianNB()"
      ]
     },
     "execution_count": 621,
     "metadata": {},
     "output_type": "execute_result"
    }
   ],
   "source": [
    "# Declare Gaussian Naive Bayes as classifier\n",
    "classifier = GaussianNB()\n",
    "\n",
    "# Fit classifier to training vectors\n",
    "classifier.fit(count_x_train, y_train)"
   ]
  },
  {
   "cell_type": "code",
   "execution_count": 622,
   "metadata": {},
   "outputs": [
    {
     "name": "stdout",
     "output_type": "stream",
     "text": [
      "The accuracy of transactions classified is 0.9206349206349206\n"
     ]
    }
   ],
   "source": [
    "# Predict and print classifier's accuracy\n",
    "y_predicted = classifier.predict(count_x_test)\n",
    "print(f\"The accuracy of transactions classified is {accuracy_score(y_test, y_predicted)}\")"
   ]
  },
  {
   "cell_type": "code",
   "execution_count": 633,
   "metadata": {},
   "outputs": [],
   "source": [
    "# Create pipeline to to automate data transformation and classification workflow\n",
    "pipeline = Pipeline([\n",
    "    (\"vectorizer\", CountVectorizer(lowercase=True, stop_words=german_stop_words_to_use, strip_accents=\"unicode\",\n",
    "                                   ngram_range=(1,2))),\n",
    "    (\"to_dense\", FunctionTransformer(lambda n: n.todense())),\n",
    "    (\"classifier\", GaussianNB())])"
   ]
  },
  {
   "cell_type": "code",
   "execution_count": 624,
   "metadata": {},
   "outputs": [
    {
     "data": {
      "text/plain": [
       "array([0.9047619 , 0.95238095, 0.95238095, 0.71428571, 0.95238095,\n",
       "       0.76190476, 0.80952381, 0.9047619 , 1.        , 1.        ])"
      ]
     },
     "execution_count": 624,
     "metadata": {},
     "output_type": "execute_result"
    }
   ],
   "source": [
    "# Utilize cross validation to print classifier accuracy for 10 iterations\n",
    "cross_validate(pipeline, x, y, scoring=\"accuracy\", cv=10)[\"test_score\"]"
   ]
  },
  {
   "cell_type": "code",
   "execution_count": 625,
   "metadata": {},
   "outputs": [
    {
     "name": "stdout",
     "output_type": "stream",
     "text": [
      "                  precision    recall  f1-score   support\n",
      "\n",
      "         finance       1.00      0.88      0.93         8\n",
      "          income       1.00      1.00      1.00         5\n",
      "         leisure       0.82      0.93      0.87        15\n",
      "          living       0.90      0.82      0.86        11\n",
      "         private       0.88      1.00      0.93         7\n",
      "standardOfLiving       1.00      0.94      0.97        17\n",
      "\n",
      "        accuracy                           0.92        63\n",
      "       macro avg       0.93      0.93      0.93        63\n",
      "    weighted avg       0.93      0.92      0.92        63\n",
      "\n"
     ]
    }
   ],
   "source": [
    "# Print classification report statistics\n",
    "print(classification_report(y_test, y_predicted))"
   ]
  },
  {
   "cell_type": "code",
   "execution_count": 617,
   "metadata": {},
   "outputs": [
    {
     "data": {
      "image/png": "[encoded data removed]",
      "text/plain": [
       "<Figure size 432x288 with 2 Axes>"
      ]
     },
     "metadata": {
      "needs_background": "light"
     },
     "output_type": "display_data"
    }
   ],
   "source": [
    "# Plot confusion matrix as heatmap\n",
    "def plot_confusion_matrix(y_test, y_predicted):\n",
    "    labels = unique_labels(y_test)\n",
    "    column = [f\"Predicted {label}\" for label in labels]\n",
    "    indices = [f\"Actual {label}\" for label in labels]\n",
    "    table = pd.DataFrame(confusion_matrix(y_test, y_predicted),\n",
    "                        columns=column, index=indices)\n",
    "    \n",
    "    return sns.heatmap(table, annot=True, cmap=\"GnBu\")\n",
    "\n",
    "plot_confusion_matrix(y_test, y_predicted);"
   ]
  }
 ],
 "metadata": {
  "kernelspec": {
   "display_name": "Python 3",
   "language": "python",
   "name": "python3"
  },
  "language_info": {
   "codemirror_mode": {
    "name": "ipython",
    "version": 3
   },
   "file_extension": ".py",
   "mimetype": "text/x-python",
   "name": "python",
   "nbconvert_exporter": "python",
   "pygments_lexer": "ipython3",
   "version": "3.7.6"
  },
  "metadata": {
   "interpreter": {
    "hash": "082e9a3bcad0a290d0001e938aa60b99250c6c2ef33a923c00b70f9826caf4b7"
   }
  }
 },
 "nbformat": 4,
 "nbformat_minor": 4
}